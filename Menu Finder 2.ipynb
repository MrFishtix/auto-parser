{
 "cells": [
  {
   "cell_type": "code",
   "execution_count": 2,
   "metadata": {
    "collapsed": true
   },
   "outputs": [],
   "source": [
    "from bs4 import BeautifulSoup\n",
    "import pandas as pd\n",
    "from pandas import DataFrame as df\n",
    "import numpy as np\n",
    "import re\n",
    "import requests "
   ]
  },
  {
   "cell_type": "code",
   "execution_count": 3,
   "metadata": {
    "collapsed": true
   },
   "outputs": [],
   "source": [
    "def tags(web):\n",
    "    class_list = []\n",
    "    for line2 in web:\n",
    "        line2 = str(line2).split('\\n')\n",
    "        if len(line2) > 2:\n",
    "            for item in line2:\n",
    "                if 'class=' in item:\n",
    "\n",
    "                    s = re.findall(r'(<[a-z]* class=\".*?\")', item)\n",
    "                    for stuff in s:\n",
    "                        if stuff not in class_list:\n",
    "                            class_list.append(stuff)\n",
    "#-------------------------------------------------------------------------------------------\n",
    "    tagdict = {}\n",
    "    for i in class_list:\n",
    "        tagfinder = re.findall(r'<[a-z]*',i)\n",
    "        cl = re.findall(r'class=\".*?\"',i)\n",
    "        for tag in tagfinder:\n",
    "            tag = tag.strip('<')\n",
    "            for c in cl:\n",
    "                if tag in tagdict:\n",
    "\n",
    "                    tagdict[tag].append(c)\n",
    "                else:\n",
    "                    tagdict[tag] = [c]\n",
    "    return(tagdict)"
   ]
  },
  {
   "cell_type": "code",
   "execution_count": 4,
   "metadata": {
    "collapsed": true
   },
   "outputs": [],
   "source": [
    "\n",
    "def web(soup,t=None):\n",
    "    \n",
    "    \n",
    "    found = []\n",
    "    if t == None:\n",
    "        return (soup)\n",
    "    if t == 'a':\n",
    "        for line in soup.find_all(t):\n",
    "            line = line.get('href')\n",
    "\n",
    "            found.append(line)\n",
    "    else:\n",
    "        for line in soup.find_all(t):\n",
    "            line = line.get_text('_').split('_')\n",
    "            found.append(line)\n",
    "    return(found)\n",
    "    "
   ]
  },
  {
   "cell_type": "code",
   "execution_count": 5,
   "metadata": {
    "collapsed": true,
    "scrolled": true
   },
   "outputs": [],
   "source": [
    "def access(url):\n",
    "    response = requests.get(url)\n",
    "    soup = BeautifulSoup(response.content, 'html.parser')\n",
    "    return (soup)"
   ]
  },
  {
   "cell_type": "code",
   "execution_count": 6,
   "metadata": {},
   "outputs": [
    {
     "name": "stdout",
     "output_type": "stream",
     "text": [
      "Enter URL: http://www.chuys.com\n"
     ]
    },
    {
     "data": {
      "text/plain": [
       "<!DOCTYPE doctype html>\n",
       "<html class=\"no-js\" lang=\"en\"><head><meta charset=\"utf-8\"/><link href=\"/assets/images/favicon.png\" rel=\"icon\" type=\"image/png\"/><meta content=\"width=device-width, initial-scale=1.0\" name=\"viewport\"/><title>Home | Chuy's Tex-Mex</title><meta content=\"Chuy's, tex-mex, mexican, foo, restaurant, signature, big, hatch, new mexico, green, chile, festival,austin, texas, barton, springs, road, elvis, mike, young, john, zapp, burritos, as, yo', face, chile, rellenos, margaritas, margarita, authentic, tennessee, children, giving, to, children, parade, operation, blue, santa, special, olympics, hot, trot, 5k, and, kidk, fullosophy,hand-rolled, salsa, ranchero, sauce, fresca, martini, nacho, car, chuychanga, homemade, chika-chicka, boom-boom, tortilla, ritas, curbside, austin, arbor, trails, round, rock, 183, north, lamar, san, antonio, selma, hwy, 281, dallas, fort, worth, arlington, plano, dallas, mcKinney, houston, humble, 290, shenandoah,river oaks, gift, cards, t-shirts\" name=\"keywords\"/><meta content=\"\" name=\"description\"/><link href=\"https://www.chuys.com\" rel=\"canonical\"/><style>@font-face{font-family:\"Moon Flower Bold\";src:url(\"/assets/fonts/Moon_Flower_Bold.eot?\") format(\"eot\"),url(\"/assets/fonts/Moon_Flower_Bold.woff\") format(\"woff\"),url(\"/assets/fonts/Moon_Flower_Bold.ttf\") format(\"truetype\"),url(\"/assets/fonts/Moon_Flower_Bold.svg#MoonFlowerBold\") format(\"svg\");font-weight:normal;font-style:normal}@font-face{font-family:\"Dirty Headline\";src:url(\"/assets/fonts/dirtyheadline.eot?\") format(\"eot\"),url(\"/assets/fonts/dirtyheadline.woff\") format(\"woff\"),url(\"/assets/fonts/dirtyheadline.ttf\") format(\"truetype\"),url(\"/assets/fonts/dirtyheadline.svg#DirtyHeadline\") format(\"svg\");font-weight:normal;font-style:normal}</style><link href=\"/assets/css/foundation.css\" rel=\"stylesheet\"/><link href=\"https://www.chuys.com/?css=styles/style.v.1516899845\" rel=\"stylesheet\"/><link href=\"/assets/css/jquery.fancybox.css\" rel=\"stylesheet\"/> <script src=\"https://www.chuys.com/assets/cache/6cfd9121cc50ffca2119833c82cc5738356026d2.1516899839.js\"></script> <script src=\"https://use.typekit.net/fvh1uyu.js\"></script> <script>try{Typekit.load({async:true});}catch(e){}</script> </head><body>\n",
       "<noscript><iframe height=\"0\" src=\"//www.googletagmanager.com/ns.html?id=GTM-WDG4LB\" style=\"display:none;visibility:hidden\" width=\"0\"></iframe></noscript> <script>(function(w,d,s,l,i){w[l]=w[l]||[];w[l].push({'gtm.start':new Date().getTime(),event:'gtm.js'});var f=d.getElementsByTagName(s)[0],j=d.createElement(s),dl=l!='dataLayer'?'&l='+l:'';j.async=true;j.src='//www.googletagmanager.com/gtm.js?id='+i+dl;f.parentNode.insertBefore(j,f);})(window,document,'script','dataLayer','GTM-WDG4LB');</script> <div class=\"pagewrapper\">\n",
       "<header><div class=\"head-wrap\"><div class=\"row\">\n",
       "<a class=\"logo\" href=\"/\"><img alt=\"Chuy's\" src=\"/assets/images/logo.png\"/></a>\n",
       "<nav class=\"top show-for-large-up\"><ul><li class=\"fb fade\"><a href=\"https://www.facebook.com/Chuys.Restaurants\" target=\"blank\">Facebook</a></li><li class=\"tw fade\"><a href=\"https://twitter.com/ChuysRestaurant\" target=\"blank\">Twitter</a></li><li><a href=\"/contact\">Contact Us</a></li><li><a href=\"http://investor.chuys.com/\" target=\"_blank\">Investors</a></li><li><a href=\"/careers\">Careers</a></li></ul>\n",
       "</nav><div class=\"buttons show-for-large-up\">\n",
       "<a class=\"feedback\" href=\"/contact\">Send Us Feedback!</a>\n",
       "<a class=\"newsletter\" href=\"https://app.e2ma.net/app2/audience/signup/1411516/1400231/\" target=\"_blank\">Get News &amp; Specials!</a></div>\n",
       "<nav class=\"main\"><ul><li><a href=\"/locations\"><small>Come On By!</small><span>Locations</span>Locations</a></li><li><a href=\"/menu/chuysdifference\"><small>Food+Drinks</small><span>Menu</span>Menu</a></li><li><a href=\"/story\"><small>Our</small><span>Story</span>Story</a></li><li><a href=\"/community\"><small>Commitment to</small><span>Community</span>Community</a></li><li><a href=\"/news\"><small>Keep Up with the</small><span>Latest</span>Latest</a></li><li><a href=\"/shop\"><small>Shirts+Gift Cards</small><span>Shop Chuy's</span>Shop Chuy's</a></li></ul>\n",
       "</nav>\n",
       "<a class=\"main-menu-toggle\" href=\"#\">Menu</a>\n",
       "<div class=\"closest\" id=\"nearest_header\">\n",
       "<p class=\"title\">Find Your Closest Chuy's</p>\n",
       "<p><a href=\"/locations\">Click Here to Search Our Locations</a></p>\n",
       "<ul>\n",
       "<li><a href=\"/locations\"><span>View</span> Map</a></li>\n",
       "</ul>\n",
       "</div>\n",
       "<div class=\"fish\"></div></div></div>\n",
       "<nav class=\"mobile\"><ul><li><a href=\"/locations\">Locations</a></li><li class=\"has_dd\"><a href=\"/menu/chuysdifference\">Menu</a><ul><li><a href=\"/menu\">The Menu</a></li><li><a href=\"/menu/chuysdifference\">The Chuy's Difference</a></li><li><a href=\"/menu/saucetour\">Chuy's Sauce Tour</a></li><li><a href=\"/menu/signaturedrinks\">Signature Drinks</a></li></ul></li><li><a href=\"/story\">Our Story</a></li><li><a href=\"/community\">Commitment to Community</a></li><li><a href=\"/news\">Latest News</a></li><li class=\"has_dd\"><a href=\"/shop\">Shop Chuy's</a><ul><li><a href=\"/shop/tshirts\">T-Shirts</a></li><li><a href=\"https://www.buyatab.com/custom/chuys/\">Gift Cards</a></li></ul></li><li><a href=\"http://investor.chuys.com/\" target=\"_blank\">Investors</a></li><li><a href=\"/careers\">Careers</a></li><li><a href=\"/contact\">Contact</a></li></ul>\n",
       "</nav>\n",
       "</header><div class=\"banner_home\" style=\"background-image:url(/images/made/uploads/home/home_banner_2000_774_84_c1.jpg);\"><div class=\"row\"><div class=\"large-12 columns text-center\">\n",
       "<img alt=\"Deep in the Heart of Tex-Mex\" src=\"https://www.chuys.com/uploads/home/banner_overlay.png\"/></div></div></div><div class=\"page yellow-top\"><div class=\"row threecallouts\"><div class=\"large-4 columns homecallouts\">\n",
       "<a class=\"menu\" href=\"/menu\"><h1><span>See Our</span><br/>Menu</h1></a></div><div class=\"large-4 columns homecallouts\">\n",
       "<a class=\"location\" href=\"/locations\"><h1><span>Find Your</span><br/>Chuy's</h1></a></div><div class=\"large-4 columns homecallouts\">\n",
       "<a class=\"shop\" href=\"/shop\"><h1>Buy<br/><span class=\"tiny\">Chuy's T Shirts, Hats<br/> &amp; Gift Cards</span></h1></a></div></div><div class=\"row\"><div class=\"large-4 columns\"><div class=\"white-background text-center updated-catering-section\" style=\"\">\n",
       "<a href=\"/locations\"><h2 class=\"catering-headline-red\" style=\"\">Planning for a special event or large party?</h2><h3 class=\"catering-headline-blue\" style=\"font-size: 28px;\">Call and talk to a manager today.</h3><h3 class=\"catering-headline-blue\" style=\"color: #f14e35;font-size: 25px;\">Limited availability at some locations.</h3>\n",
       "<img alt=\"Chuy's Catering\" class=\"catering-thumbnail\" src=\"/uploads/catering-thumbnail.jpg\" style=\"\"/>\n",
       "</a></div><a class=\"btn catering-btn\" href=\"/locations\" style=\"\n",
       "\">Click here to find your Chuy's</a><div class=\"facebook\">\n",
       "</div></div><div class=\"large-8 columns keepup\"><div class=\"dotted_hr hide-for-large-up\"></div><h2>Keep <span>up with</span> Chuy's!</h2><ul><li><div class=\"row\"><div class=\"small-10 columns\"><p><a href=\"/news/post/greenwood-village-co-now-hiring\">Greenwood Village, CO Now Hiring</a></p><p><img alt=\"\" src=\"https://www.chuys.com/uploads/store-images/Hiring_Banner_existing_stores_NEW.jpg\" style=\"height:94px; width:150px\"/></p><p>Chuy's Denver Tech is NOW HIRING for all positions. </p><p>Click <a href=\"https://www.chuys.com/careers/hourly\">here</a> to apply online now!</p><p>Or apply in person, at our hiring trailer - 8121 Arapahoe Road</p><p>Mon - Fri 9am-5pm, Sat 10am-4pm</p><p>Call (512) 993-5521 with questions</p></div></div></li><li><div class=\"row\"><div class=\"small-10 columns\"><p><a href=\"/news/post/kendall-fl-now-hiring\">Kendall, FL Now Hiring</a></p><p><img alt=\"\" src=\"https://www.chuys.com/uploads/store-images/Hiring_Banner_existing_stores_NEW.jpg\" style=\"height:94px; width:150px\"/></p><p>Chuy's Kendall is NOW HIRING for all positions. </p><p>Click <a href=\"https://www.chuys.com/careers/hourly\">here</a> to apply online now!</p><p>Or apply in person, at our hiring trailer - 8945 SW 162nd Ave.</p><p>Mon - Fri  9am-6pm, Sat 9am-2pm</p><p>Call (512) 574-6774 with questions</p></div></div></li></ul></div></div></div></div><div class=\"feed-holder yellow-top\"><div id=\"instafeed\"></div></div><footer><div class=\"row\"><div class=\"large-8 columns\">\n",
       "<div class=\"location\" id=\"nearest_footer\">\n",
       "<h3>See the Newest Chuy's</h3>\n",
       "<div class=\"img-wrap\">\n",
       "<img src=\"/images/made/uploads/store-images/EatHereNow_Pic_I_love_245_185_84_c1.jpg\"/>\n",
       "</div>\n",
       "<div class=\"info\">\n",
       "<h2>Tampa</h2>\n",
       "<hr/>\n",
       "<p>25750 Sierra Center Blvd.<br/>Lutz, FL 33559<br/>\n",
       "                (813) 948-2211 </p>\n",
       "<p class=\"hours\">Sun - Thurs 11am to 10pm\n",
       "              <br/>Fri - Sat 11am - 11pm</p>\n",
       "<p class=\"links\"><a href=\"https://www.google.com/maps/search/Chuy%27s%2C25750+Sierra+Center+Blvd.%2C%2CLutz%2CFL%2C33559\" target=\"_blank\"><span>View</span> Map</a><a href=\"/locations/tampa/tampa\"><span>Location</span> Details</a><a href=\"/locations\">Change <span>Location</span></a></p>\n",
       "</div>\n",
       "</div>\n",
       "</div><div class=\"large-4 columns\"><div class=\"quote\"><h3>What our fans are saying</h3><p>Chuy’s is a fun place to eat what with all the memorabilia and over-the-top decorations like palm trees and the afore-mentioned Elivis figures. It’s a great place to spend a very happy hour. Chuy’s gets five stars from the Dining Divas for food, drink and fun.<br>\n",
       "- The Dining Divas, mySanAntonio.com<br/></br></p></div></div><div class=\"fish\"></div></div><div class=\"sub-foot\"><div class=\"row\"><div class=\"large-10 columns\"><ul class=\"show-for-medium-up\"><li><a href=\"/locations\">Locations</a></li><li><a href=\"/menu/chuysdifference\">Menu</a></li><li><a href=\"/story\">Our Story</a></li><li><a href=\"/community\">Commitment to Community</a></li><li><a href=\"/news\">Keep Up With Chuy's</a></li><li><a href=\"/shop\">Shop Chuy's</a></li><li><a href=\"/contact\">Contact Us / Feedback</a></li><li><a href=\"http://investor.chuys.com/\">Investors</a></li><li><a href=\"/careers\">Careers</a></li></ul><ul class=\"hide-for-medium-up\"><li><a href=\"/locations\">Locations</a></li><li><a href=\"/menu\">Menu</a></li><li><a href=\"/contact\">Contact Us / Feedback</a></li><li><a href=\"http://investor.chuys.com/\">Investors</a></li><li><a href=\"/careers\">Careers</a></li></ul></div><div class=\"large-2 columns\"><div class=\"social\"><p><a class=\"fb fade\" href=\"http://www.Facebook.com/Chuys.Restaurants\" target=\"blank\">Facebook</a><a class=\"tw fade\" href=\"https://twitter.com/ChuysRestaurant\" target=\"blank\">Twitter</a><a class=\"em fade\" href=\"https://app.e2ma.net/app2/audience/signup/1411516/1400231/?v=a\" target=\"blank\">Email</a></p><p>© 2017 Chuy's</p></div></div></div></div>\n",
       "</footer></body></html> <script src=\"https://www.chuys.com/assets/cache/01a9650665265534cfb312d065a1351ad5726cc4.1527881684.js\"></script> <script type=\"text/javascript\">$(document).foundation();</script>\n",
       "<script type=\"text/javascript\">\n",
       "      if(geoPosition.init()){  // Geolocation Initialisation\n",
       "              geoPosition.getCurrentPosition(success_callback,error_callback,{enableHighAccuracy:true});\n",
       "      }else{\n",
       "              // You cannot use Geolocation in this device\n",
       "      }\n",
       "\n",
       "      // p : geolocation object\n",
       "     function success_callback(p){\n",
       "      // console.log(p.coords.latitude);\n",
       "      $.getJSON( \"/embeds/geo\", { lat: p.coords.latitude, lng: p.coords.longitude } )\n",
       "        .done(function( json ) {\n",
       "          // console.log( \"JSON Data: \" + json.title );\n",
       "          $(\"#nearest_header\").replaceWith('<div class=\"closest\" id=\"nearest_header\"><p class=\"title\">Your Closest Chuy\\'s '+((json.soon == \"Yes\") ? '<span class=\"yellow\">Coming Soon!</span>' : '')+'</p><p><a href=\"/locations/'+json.area_url+'/'+json.url_title+'\">'+json.address+' '+json.city+', '+json.state+'</a></p>'+((json.cater == \"Yes\") ? '<ul class=\"we-cater\"><li><img src=\"/assets/images/header-cater.png\"></li></ul>' : '')+'<ul><li><a href=\"'+json.directions_url+'\"target=\"_blank\"><span>View</span> Map</a></li></ul></div>');\n",
       "          $(\"#nearest_footer\").replaceWith('<div class=\"location\" id=\"nearest_footer\"><h3>Your Closest Chuy\\'s</h3><div class=\"'+((json.cater == \"Yes\") ? 'img-wrap-cater' : 'img-wrap')+'\"><img src=\"'+json.img+'\"></div><div class=\"info\"><h3>'+((json.soon == \"Yes\") ? '<span class=\"yellow\">Coming Soon!</span>' : json.area)+'</h3><h2>'+json.title+'</h2><hr><p>'+json.address+'<br>'+json.city+', '+json.state+' '+json.zip+'<br>'+json.phone+'</p><p class=\"hours\">'+json.hours+'</p><p class=\"links\"><a href=\"'+json.directions_url+'\" target=\"_blank\"><span>View</span> Map</a><a href=\"/locations/'+json.area_url+'/'+json.url_title+'\"><span>See</span> Menus</a><a href=\"/locations\">Change <span>Location</span></a></p></div></div>');\n",
       "          $(\"#nearest_banner\").replaceWith('<div class=\"closest-location\" id=\"nearest_banner\"><div class=\"img-wrap\"><img src=\"'+json.img+'\"></div><h3>Your Closest Chuy\\'s'+((json.soon == \"Yes\") ? ' - Coming Soon!' : '')+'</h3><h2>'+json.title+' <span>'+json.area+'</span></h2><p class=\"address\">'+json.address+' <span>|</span> '+json.city+', '+json.state+' '+json.zip+'</p><p class=\"phone\">'+json.phone+'</p><p class=\"hours\">'+json.hours+'</p><div class=\"extrainfo wygwam-field\">'+json.add_info+'</div><div class=\"links\">'+((json.cater == \"Yes\") ? '<p class=\"margin\"' : '<p>')+'<a href=\"'+json.directions_url+'\" target=\"_blank\"><span>View</span> Map</a><a href=\"/locations/'+json.area_url+'/'+json.url_title+'\"><span>See</span> Menus</a></p><a href=\"/locations/'+json.area_url+'/'+json.url_title+'\" class=\"button\">View Location Info</a>'+((json.cater == \"Yes\") ? '<a href=\"/locations/'+json.area_url+'/'+json.url_title+'\" class=\"button-cater\"><img src=\"/assets/images/we-cater-map.png\" /></a>' : '')+'</div></div>');\n",
       "          })\n",
       "          .fail(function( jqxhr, textStatus, error ) {\n",
       "            var err = textStatus + \", \" + error;\n",
       "            console.log( \"Request Failed: \" + err );\n",
       "        });\n",
       "      }\n",
       "      function error_callback(p){\n",
       "        console.log(\"Error: \" + p.message);\n",
       "      }\n",
       "    </script>\n",
       "<script>(function(i,s,o,g,r,a,m){i['GoogleAnalyticsObject']=r;i[r]=i[r]||function(){(i[r].q=i[r].q||[]).push(arguments)},i[r].l=1*new Date();a=s.createElement(o),m=s.getElementsByTagName(o)[0];a.async=1;a.src=g;m.parentNode.insertBefore(a,m)})(window,document,'script','//www.google-analytics.com/analytics.js','ga');ga('create','UA-56915600-5','auto');ga('send','pageview');</script> <script>!function(f,b,e,v,n,t,s){if(f.fbq)return;n=f.fbq=function(){n.callMethod?n.callMethod.apply(n,arguments):n.queue.push(arguments)};if(!f._fbq)f._fbq=n;n.push=n;n.loaded=!0;n.version='2.0';n.queue=[];t=b.createElement(e);t.async=!0;t.src=v;s=b.getElementsByTagName(e)[0];s.parentNode.insertBefore(t,s)}(window,document,'script','https://connect.facebook.net/en_US/fbevents.js');fbq('init','331599503877781');fbq('track','PageView');</script> <noscript><img height=\"1\" src=\"https://www.facebook.com/tr?id=331599503877781&amp;ev=PageView&amp;noscript=1\" style=\"display:none\" width=\"1\"/></noscript> <script>!function(e,t,n,s,u,a){e.twq||(s=e.twq=function(){s.exe?s.exe.apply(s,arguments):s.queue.push(arguments);},s.version='1.1',s.queue=[],u=t.createElement(n),u.async=!0,u.src='//static.ads-twitter.com/uwt.js',a=t.getElementsByTagName(n)[0],a.parentNode.insertBefore(u,a))}(window,document,'script');twq('init','nvpu2');twq('track','PageView');</script>\n",
       "<script src=\"//platform.twitter.com/oct.js\" type=\"text/javascript\"></script> <script type=\"text/javascript\">twttr.conversion.trackPid('nvpu3',{tw_sale_amount:0,tw_order_quantity:0});</script> <noscript>\n",
       "<img alt=\"\" height=\"1\" src=\"https://analytics.twitter.com/i/adsct?txn_id=nvpu3&amp;p_id=Twitter&amp;tw_sale_amount=0&amp;tw_order_quantity=0\" style=\"display:none;\" width=\"1\"/>\n",
       "<img alt=\"\" height=\"1\" src=\"//t.co/i/adsct?txn_id=nvpu3&amp;p_id=Twitter&amp;tw_sale_amount=0&amp;tw_order_quantity=0\" style=\"display:none;\" width=\"1\"/>\n",
       "</noscript> <script src=\"/assets/js/slick.min.js\"></script> <script>if($(\".catering-slider\").length){$(\".catering-slider\").slick({arrows:false});}</script> <script src=\"/assets/js/foundation/foundation.orbit.js\"></script> <script>$(document).foundation({orbit:{animation:'slide',timer_speed:10000,pause_on_hover:true,resume_on_mouseout:false,next_on_click:true,animation_speed:500,stack_on_small:false,navigation_arrows:true,slide_number:true,slide_number_text:'of',container_class:'orbit-container',stack_on_small_class:'orbit-stack-on-small',next_class:'orbit-next',prev_class:'orbit-prev',timer_container_class:'orbit-timer',timer_paused_class:'paused',timer_progress_class:'orbit-progress',slides_container_class:'orbit-slides-container',preloader_class:'preloader',slide_selector:'li',bullets_container_class:'orbit-bullets',bullets_active_class:'active',slide_number_class:'orbit-slide-number',caption_class:'orbit-caption',active_slide_class:'active',orbit_transition_class:'orbit-transitioning',bullets:true,circular:true,timer:true,variable_height:false,swipe:true}});</script> "
      ]
     },
     "execution_count": 6,
     "metadata": {},
     "output_type": "execute_result"
    }
   ],
   "source": [
    "url = input('Enter URL: ')\n",
    "access(url)"
   ]
  },
  {
   "cell_type": "code",
   "execution_count": 7,
   "metadata": {
    "collapsed": true
   },
   "outputs": [],
   "source": [
    "links = web(access(url),'a')"
   ]
  },
  {
   "cell_type": "code",
   "execution_count": 10,
   "metadata": {},
   "outputs": [
    {
     "name": "stdout",
     "output_type": "stream",
     "text": [
      "['Facebook', 'Twitter', 'Contact Us', 'Investors', 'Careers']\n",
      "['Come On By!', 'Locations', 'Locations', 'Food+Drinks', 'Menu', 'Menu', 'Our', 'Story', 'Story', 'Commitment to', 'Community', 'Community', 'Keep Up with the', 'Latest', 'Latest', 'Shirts+Gift Cards', \"Shop Chuy's\", \"Shop Chuy's\"]\n",
      "['\\n', 'View', ' Map', '\\n']\n",
      "['Locations', 'Menu', 'The Menu', \"The Chuy's Difference\", \"Chuy's Sauce Tour\", 'Signature Drinks', 'Our Story', 'Commitment to Community', 'Latest News', \"Shop Chuy's\", 'T-Shirts', 'Gift Cards', 'Investors', 'Careers', 'Contact']\n",
      "['The Menu', \"The Chuy's Difference\", \"Chuy's Sauce Tour\", 'Signature Drinks']\n",
      "['T-Shirts', 'Gift Cards']\n",
      "[\"The Chuy's Difference\", 'The Menu', \"Chuy's Sauce Tour\", 'Signature Drinks']\n",
      "['Appetizers', 'Salads & Soups', 'Burritos', 'Tacos', 'Specialties', 'Enchiladas', 'Fajitas', 'Combinations', 'Kids']\n",
      "['Chile Con Queso', 'Homemade blend of melted cheese, Green Chile sauce and Ranchero sauce.', 'Queso Compuesto ', 'Chile con queso with seasoned ground sirloin, guacamole and pico de gallo.', 'Guacamole', 'A creamy blend of fresh avocados and Salsa Fresca.', 'Nachos', 'Freshly made tostada chips layered with refried beans, cheese & jalapeños with lettuce & tomato.', 'Special Nachos', 'Same as above with guacamole & pico de gallo.']\n",
      "['Panchos', 'Special nachos with your choice of fajita chicken, fajita beef or seasoned ground sirloin.', 'Quesadillas', 'Handmade flour tortillas stuffed with cheese, green chiles & onion. Served with guacamole, sour cream & pico de gallo.', 'Deluxe Quesadillas', 'Same as above with fajita chicken.', 'Appetizer Plate', 'Chile con queso, nachos, deluxe quesadillas, chicken flautas, guacamole & sour cream.']\n",
      "['Taco Salad', 'Homemade tortilla bowl with fresh, mixed salad greens, tomatoes, cheese, guacamole & your choice of fajita chicken, fajita beef or seasoned ground sirloin.', 'Grilled Chicken Salad', 'Fajita chicken, tomatoes & avocados on a bed of fresh, mixed salad greens.', 'Mexi-Cobb Salad', 'Fajita chicken, green chiles, cheese, avocados', '\\n& tomatoes on a bed of fresh, mixed salad greens']\n",
      "['Large Dinner Salad', 'Tomatoes, cucumbers and fresh, mixed salad greens.', 'Tortilla Soup', 'Chuy’s famous recipe. Homemade chicken broth with freshly-roasted, hand-pulled chicken, avocado, roasted corn, green chiles, tomatoes & cilantro, topped with cheese and tortilla strips.', 'Tex-Mex Salad Combinations', 'Large Dinner Salad with your choice of: Enchilada, Deluxe Quesadillas, Mini Burrito or Tortilla Soup']\n",
      "['Bean & Cheese', 'Seasoned Ground Sirloin']\n",
      "['Fresh, Oven Roasted Chicken', 'Fajita Chicken or Fajita Beef']\n",
      "['Soft Tacos', 'Handmade flour tortillas with lettuce, cheese, pico de gallo & guacamole. Your choice of Fajita Chicken or Seasoned Ground Sirloin.', 'Vegetarian Soft Tacos', 'Our handmade flour tortillas with lettuce, cheese, pico de gallo & guacamole.', 'Crispy Tacos', 'Hand-formed corn tortillas filled with seasoned ground sirloin, lettuce, cheese & tomatoes.']\n",
      "['Tacos Al Carbon', 'Freshly made flour tortillas filled with fajita chicken or beef, grilled onions & green chiles.', 'Baja Tacos', 'Freshly made flour tortillas with your choice of lightly battered and fried or grilled fish or shrimp, cilantro, red cabbage and Creamy Jalapeño']\n",
      "['Chile Rellenos', 'An authentic New Mexican favorite. A fresh Anaheim pepper, fire-roasted and filled with your choice of the following. Battered and fried to perfection. Drizzled with sour cream.', 'Cheese', 'with Ranchero sauce', 'Seasoned Ground Sirloin', 'with Ranchero sauce', 'Fresh, Oven-Roasted Chicken', 'with Deluxe Tomatillo sauce', 'Shrimp & Cheese', 'with Deluxe Tomatillo sauce']\n",
      "['Chuychanga', 'A fried flour tortilla filled with fresh, oven-roasted chicken, cheese, cilantro & green chiles, garnished with sour cream & your choice of sauce.', 'Steak Burrito', 'A handmade, 12” flour tortilla stuffed with sliced grilled steak and cheese, topped with spicy Hatch Green Chile sauce. Served with green chile rice & charro beans.', 'Chicken Flautas', 'Homemade corn tortillas filled with freshly-roasted, hand-pulled chicken, rolled, fried and drizzled with our smoky, red chipotle sauce. Served with guacamole and sour cream.', 'Elvis Green Chile Fried Chicken', 'A Chuy’s original. A tender chicken breast breaded with Lay’s potato chips, deep fried and smothered in Green Chile sauce and cheddar cheese. Served with green chile rice and refried beans.']\n",
      "['Stacked Enchiladas', 'An authentic New Mexican recipe. Homemade blue corn tortillas stacked with freshly-roasted,', '\\nhand-pulled chicken, cheese & Tomatillo sauce, topped with sour cream.', 'Classic Tex-Mex', 'Cheese & onion with Tex-Mex sauce.', 'Chicka-Chicka Boom-Boom', 'Freshly-roasted, hand-pulled chicken & cheese with Boom-Boom sauce, made with cheese, roasted New Mexican green chiles, tomatillos, green onions, cilantro and lime juice.', 'Veggie', 'Spinach, onions, zucchini, yellow squash, red bell peppers, serranos, roasted green chiles, corn & cheese in homemade blue corn tortillas with Ranchero sauce.']\n",
      "['Deluxe Chicken', 'Freshly-roasted, hand-pulled chicken & cheese with Deluxe Tomatillo sauce.', 'Southwestern', 'A New Mexican tradition. Homemade blue corn tortillas stacked with freshly-roasted, hand-pulled chicken, cheese & Green Chile sauce, topped with a fried egg.', 'Custom Enchiladas', 'Seasoned ground sirloin, fresh, oven-roasted chicken or cheese with your choice of sauce.']\n",
      "['Your choice of beef, chicken or a combination, grilled with onions and peppers. Served with handmade flour tortillas, lettuce, guacamole, sour cream, cheese, pico de gallo, Mexican rice & refried beans. Order for one or two.']\n",
      "['']\n",
      "['#1 Comida Deluxe', 'Cheese Tex-Mex enchiladas, chicken flautas, a seasoned ground sirloin crispy taco, guacamole & homemade tostada chips dipped in chile con queso', '#2 The Elvis Presley Memorial Combo', 'Beef Tex-Mex enchilada, cheese Ranchero enchilada, chicken Tomatillo enchilada, a seasoned ground sirloin crispy taco & homemade tostada chips dipped in chile con queso', '#3 Taco & Enchilada', 'Seasoned ground sirloin crispy taco, cheese Tex-Mex enchilada', '#4 Relleno & Enchilada', 'Your choice of chile relleno & enchilada', '#5 Chalupa & Enchilada', 'Chicken Chalupa, a homemade corn tortilla fried and topped with refried beans, cheese, freshly-roasted, hand-pulled chicken, lettuce, tomatoes & jalapeños, & Deluxe Chicken enchilada', '#6 Enchilada, Taco & Chalupa', 'Cheese Tex-Mex enchilada, seasoned ground sirloin crispy taco & Chicken Chalupa, a homemade corn tortilla fried and topped with refried beans, cheese, freshly-roasted, hand-pulled chicken, lettuce, tomatoes & jalapeños']\n",
      "['#7 Vegetarian Combo', 'Cheese chile relleno with Ranchero sauce & Veggie enchilada, rolled in a homemade blue corn tortilla and topped with Ranchero sauce', '#8 Chuy’s Lite Plate', 'Seasoned ground sirloin crispy taco, guacamole & chile con queso', '#9 Chicken Combo', 'Chicken Chalupa, a homemade corn tortilla fried and topped with refried beans, cheese, freshly-roasted, hand-pulled chicken, lettuce, tomatoes & jalapeños, soft fajita chicken taco & guacamole']\n",
      "['Kid Cheese Dillas', 'Two grilled tortillas with cheese, served with choice of French fries or macaroni', 'Kid Cheeseburger', 'Burger patty with cheese, ketchup & French fries', 'Mini Kid Burrito', 'Mini bean & cheese burrito, served with Ranchero Sauce and rice', 'Chicken Nuggets', 'Chicken nuggets served with choice of French fries or macaroni']\n",
      "['Mini Crispy Tacos', 'Three crispy tacos with beef & cheese. Served with rice and beans.', 'Kid Enchilada', 'One cheese enchilada served with Ranchero Sauce, rice and beans.']\n",
      "['Locations', 'Menu', 'Our Story', 'Commitment to Community', \"Keep Up With Chuy's\", \"Shop Chuy's\", 'Contact Us / Feedback', 'Investors', 'Careers']\n",
      "['Locations', 'Menu', 'Contact Us / Feedback', 'Investors', 'Careers']\n"
     ]
    }
   ],
   "source": [
    "accept = ['li','ul','p']\n",
    "reject = ['header', 'footer', 'div', 'img', 'i', 'section', 'ol', 'label', 'span', 'hr', 'input', 'a']  #REJECT: tags not for use\n",
    "counts = []\n",
    "countdict = {}\n",
    "for line in links:\n",
    "    \n",
    "    if 'http' not in line:\n",
    "        line = url+line\n",
    "        #print(line)\n",
    "    if 'menu' in line:\n",
    "        sub = re.findall(r'http[a-z]*:/.*/menu[a-z]*', line)\n",
    "        #print(sub)\n",
    "        for i in sub:\n",
    "            a = access(i)\n",
    "            b = web(a)\n",
    "            c = tags(b)\n",
    "            #print(c)\n",
    "            for tag in c:\n",
    "                if tag not in accept:\n",
    "                    #print(tag)\n",
    "                    continue\n",
    "                #print(tag)\n",
    "                d = web(a,tag)\n",
    "                countdict[tag] = len(d)\n",
    "lrg = 0\n",
    "s = 0\n",
    "for i in countdict.values():\n",
    "    if i < lrg and i < s:\n",
    "        continue\n",
    "    if i > lrg:\n",
    "        lrg = i\n",
    "for i in countdict.values():\n",
    "    if i > s and i < lrg:\n",
    "        s = i\n",
    "\n",
    "for tag in countdict:\n",
    "    if countdict[tag] == s:\n",
    "        for i in d:\n",
    "            print (i)"
   ]
  },
  {
   "cell_type": "code",
   "execution_count": 103,
   "metadata": {},
   "outputs": [
    {
     "name": "stdout",
     "output_type": "stream",
     "text": [
      "li\n"
     ]
    }
   ],
   "source": []
  },
  {
   "cell_type": "code",
   "execution_count": 72,
   "metadata": {
    "scrolled": true
   },
   "outputs": [
    {
     "name": "stdout",
     "output_type": "stream",
     "text": [
      "<!DOCTYPE HTML PUBLIC \"-//IETF//DTD HTML 2.0//EN\">\n",
      "\n",
      "<html><head>\n",
      "<title>403 Forbidden</title>\n",
      "</head><body>\n",
      "<h1>Forbidden</h1>\n",
      "<p>You don't have permission to access /menu/\n",
      "on this server.<br/>\n",
      "</p>\n",
      "<p>Additionally, a 403 Forbidden\n",
      "error was encountered while trying to use an ErrorDocument to handle the request.</p>\n",
      "</body></html>\n",
      "\n",
      "<!DOCTYPE HTML PUBLIC \"-//IETF//DTD HTML 2.0//EN\">\n",
      "\n",
      "<html><head>\n",
      "<title>403 Forbidden</title>\n",
      "</head><body>\n",
      "<h1>Forbidden</h1>\n",
      "<p>You don't have permission to access /menu/\n",
      "on this server.<br/>\n",
      "</p>\n",
      "<p>Additionally, a 403 Forbidden\n",
      "error was encountered while trying to use an ErrorDocument to handle the request.</p>\n",
      "</body></html>\n",
      "\n"
     ]
    }
   ],
   "source": [
    "1"
   ]
  },
  {
   "cell_type": "raw",
   "metadata": {},
   "source": []
  },
  {
   "cell_type": "code",
   "execution_count": null,
   "metadata": {
    "collapsed": true
   },
   "outputs": [],
   "source": []
  }
 ],
 "metadata": {
  "kernelspec": {
   "display_name": "Python 3",
   "language": "python",
   "name": "python3"
  },
  "language_info": {
   "codemirror_mode": {
    "name": "ipython",
    "version": 3
   },
   "file_extension": ".py",
   "mimetype": "text/x-python",
   "name": "python",
   "nbconvert_exporter": "python",
   "pygments_lexer": "ipython3",
   "version": "3.6.3"
  }
 },
 "nbformat": 4,
 "nbformat_minor": 2
}
